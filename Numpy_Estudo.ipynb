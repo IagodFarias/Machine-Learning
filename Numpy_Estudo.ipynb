{
  "nbformat": 4,
  "nbformat_minor": 0,
  "metadata": {
    "colab": {
      "provenance": [],
      "authorship_tag": "ABX9TyPZIfC/iOc2UIN+5lKMcYr6",
      "include_colab_link": true
    },
    "kernelspec": {
      "name": "python3",
      "display_name": "Python 3"
    },
    "language_info": {
      "name": "python"
    }
  },
  "cells": [
    {
      "cell_type": "markdown",
      "metadata": {
        "id": "view-in-github",
        "colab_type": "text"
      },
      "source": [
        "<a href=\"https://colab.research.google.com/github/IagodFarias/Machine-Learning/blob/main/Numpy_Estudo.ipynb\" target=\"_parent\"><img src=\"https://colab.research.google.com/assets/colab-badge.svg\" alt=\"Open In Colab\"/></a>"
      ]
    },
    {
      "cell_type": "markdown",
      "source": [
        "\n",
        "\n",
        "```\n",
        "# This is formatted as code\n",
        "```\n",
        "\n",
        "# Criação de array com numpy\n",
        " - np.array()\n",
        " - np.arrange\n",
        " - np.linspace\n",
        " - np.eye\n",
        " - np.diag\n",
        " - vander(x, n)"
      ],
      "metadata": {
        "id": "Ol4vE1chLg9o"
      }
    },
    {
      "cell_type": "code",
      "execution_count": null,
      "metadata": {
        "id": "_GKEV-t0BOcC"
      },
      "outputs": [],
      "source": [
        "import numpy as np"
      ]
    },
    {
      "cell_type": "code",
      "source": [
        "lista = np.array([1,3, 4])\n",
        "print(lista)\n",
        "print(type(lista))"
      ],
      "metadata": {
        "colab": {
          "base_uri": "https://localhost:8080/"
        },
        "id": "EftMEPQPKnp6",
        "outputId": "cd247edf-44bb-4ad5-a472-4783e195219e"
      },
      "execution_count": null,
      "outputs": [
        {
          "output_type": "stream",
          "name": "stdout",
          "text": [
            "[1 3 4]\n",
            "<class 'numpy.ndarray'>\n"
          ]
        }
      ]
    },
    {
      "cell_type": "code",
      "source": [
        "mt = np.array([[1,2,3], [4,5,6]])\n",
        "print(type(mt))\n",
        "mt5 = mt.astype(np.int32)"
      ],
      "metadata": {
        "id": "djA9KP68LuyN"
      },
      "execution_count": null,
      "outputs": []
    }
  ]
}